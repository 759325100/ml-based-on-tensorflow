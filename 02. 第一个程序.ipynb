{
 "cells": [
  {
   "cell_type": "markdown",
   "metadata": {},
   "source": [
    "# 第一个程序\n",
    "\n",
    "样本数据： 100本书对应的页数\n",
    "\n",
    "标签数据： 每本书对应的价格\n",
    "\n",
    "$ y = x * kernel + bias $"
   ]
  },
  {
   "cell_type": "markdown",
   "metadata": {},
   "source": [
    "## 1. 导入包"
   ]
  },
  {
   "cell_type": "code",
   "execution_count": null,
   "metadata": {},
   "outputs": [],
   "source": [
    "import tensorflow as tf\n",
    "import numpy as np\n",
    "from matplotlib import pyplot as plt\n",
    "\n",
    "# 启用eager executing\n",
    "tf.enable_eager_execution()"
   ]
  },
  {
   "cell_type": "markdown",
   "metadata": {},
   "source": [
    "## 2. 准备数据"
   ]
  },
  {
   "cell_type": "code",
   "execution_count": null,
   "metadata": {},
   "outputs": [],
   "source": [
    "# 随机生成100个样本数据和标签数据\n",
    "x_samples = np.random.randint(100, 500, 100) # 随机生成100个0 - 500 之间的整数,分别表示每本书的页数\n",
    "y_samples = [x * 0.1 + 2 + np.random.sample() * 10 for x in x_samples] # 根据页数计算价格，带上误差, 近似公式 y = x * 0.1 + 2.5\n",
    "\n",
    "# 准备训练数据 80个， 利用Pyhton切片功能\n",
    "x_train = x_samples[:80]\n",
    "y_train = y_samples[:80]\n",
    "\n",
    "# 准备验证数据 10个， 利用Pyhton切片功能\n",
    "x_val = x_samples[80:90]\n",
    "y_val = y_samples[80:90]\n",
    "\n",
    "# 准备测试数据 10个， 利用Pyhton切片功能\n",
    "x_test = x_samples[90:]\n",
    "y_test = y_samples[90:]"
   ]
  },
  {
   "cell_type": "markdown",
   "metadata": {},
   "source": [
    "## 3. 看一下数据\n",
    "\n",
    "将训练数据以<font color=\"blue\">蓝点</font>显示在图中"
   ]
  },
  {
   "cell_type": "code",
   "execution_count": null,
   "metadata": {},
   "outputs": [],
   "source": [
    "plt.figure()\n",
    "plt.plot(x_train, y_train, 'bo')\n",
    "plt.show()"
   ]
  },
  {
   "cell_type": "markdown",
   "metadata": {},
   "source": [
    "## 4. 构建模型"
   ]
  },
  {
   "cell_type": "code",
   "execution_count": null,
   "metadata": {},
   "outputs": [],
   "source": [
    "# 定义一个顺序模型\n",
    "model = tf.keras.models.Sequential()\n",
    "# 添加一层\n",
    "model.add(tf.keras.layers.Dense(1, input_shape=(1,), name=\"layer_1\"))\n",
    "# 显示模型概要\n",
    "model.summary()"
   ]
  },
  {
   "cell_type": "markdown",
   "metadata": {},
   "source": [
    "## 5. 编译模型"
   ]
  },
  {
   "cell_type": "code",
   "execution_count": null,
   "metadata": {},
   "outputs": [],
   "source": [
    "model.compile(\n",
    "    # 优化器\n",
    "    optimizer=tf.keras.optimizers.RMSprop(0.001),\n",
    "    # 损失函数\n",
    "    loss=tf.keras.losses.mean_squared_error\n",
    ")"
   ]
  },
  {
   "cell_type": "markdown",
   "metadata": {},
   "source": [
    "## 6. 训练模型"
   ]
  },
  {
   "cell_type": "code",
   "execution_count": null,
   "metadata": {},
   "outputs": [],
   "source": [
    "model.fit(\n",
    "    # 样本数据\n",
    "    x_train, \n",
    "    # 标签数据\n",
    "    y_train,\n",
    "    # 验证数据\n",
    "    validation_data=(x_val, y_val),\n",
    "    # 迭代次数\n",
    "    epochs=1000,\n",
    "    verbose=0\n",
    ")"
   ]
  },
  {
   "cell_type": "markdown",
   "metadata": {},
   "source": [
    "## 7. 评估模型"
   ]
  },
  {
   "cell_type": "code",
   "execution_count": null,
   "metadata": {},
   "outputs": [],
   "source": [
    "results = model.evaluate(x_test, y_test)\n",
    "print(results)"
   ]
  },
  {
   "cell_type": "markdown",
   "metadata": {},
   "source": [
    "## 8. 使用模型\n",
    "\n",
    "> 将测试数据用<font color=\"blue\">蓝点</font>显示在图中, 将推断数据以<font color=\"red\">红点</font>显示在图中\n"
   ]
  },
  {
   "cell_type": "code",
   "execution_count": null,
   "metadata": {},
   "outputs": [],
   "source": [
    "predictions = model.predict(x_test)\n",
    "plt.figure()\n",
    "\n",
    "plt.plot(x_test, y_test, 'bo')\n",
    "\n",
    "plt.plot(x_test, [pred[0] for pred in predictions], 'ro')\n",
    "plt.legend(['original', 'predictions'])\n",
    "plt.show()\n",
    "\n",
    "print(model.get_layer(index=0).variables)"
   ]
  },
  {
   "cell_type": "markdown",
   "metadata": {},
   "source": [
    "## 9. 训练过程\n",
    "\n",
    "训练过程就是不断调整 `W` 和`b` 的值，使得 `loss` 值最小，这个过程称之为 __拟合__\n",
    "\n",
    "<img src=\"./images/book.gif\" />"
   ]
  }
 ],
 "metadata": {
  "kernelspec": {
   "display_name": "Python 3",
   "language": "python",
   "name": "python3"
  },
  "language_info": {
   "codemirror_mode": {
    "name": "ipython",
    "version": 3
   },
   "file_extension": ".py",
   "mimetype": "text/x-python",
   "name": "python",
   "nbconvert_exporter": "python",
   "pygments_lexer": "ipython3",
   "version": "3.6.8"
  }
 },
 "nbformat": 4,
 "nbformat_minor": 2
}
