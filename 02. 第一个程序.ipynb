{
 "cells": [
  {
   "cell_type": "markdown",
   "metadata": {},
   "source": [
    "# 第一个程序"
   ]
  },
  {
   "cell_type": "markdown",
   "metadata": {},
   "source": [
    "## 1. 导入包"
   ]
  },
  {
   "cell_type": "code",
   "execution_count": 1,
   "metadata": {},
   "outputs": [],
   "source": [
    "import tensorflow as tf\n",
    "import numpy as np"
   ]
  },
  {
   "cell_type": "markdown",
   "metadata": {},
   "source": [
    "## 2. 准备数据"
   ]
  },
  {
   "cell_type": "code",
   "execution_count": 2,
   "metadata": {},
   "outputs": [],
   "source": [
    "# 随机生成100个样本数据和标签数据\n",
    "x_samples = np.random.sample(100) # 随机生成100个0 - 1 之间的浮点数\n",
    "y_samples = np.random.randint(0, 2, 100) # 随机生成100个 0 或者 1 的整数\n",
    "\n",
    "# 准备训练数据 80个， 利用Pyhton切片功能\n",
    "x_train = x_samples[:80]\n",
    "y_train = y_samples[:80]\n",
    "\n",
    "# 准备验证数据 10个， 利用Pyhton切片功能\n",
    "x_val = x_samples[80:90]\n",
    "y_val = y_samples[80:90]\n",
    "\n",
    "# 准备测试数据 10个， 利用Pyhton切片功能\n",
    "x_test = x_samples[90:]\n",
    "y_test = y_samples[90:]"
   ]
  },
  {
   "cell_type": "markdown",
   "metadata": {},
   "source": [
    "## 3. 构建模型"
   ]
  },
  {
   "cell_type": "code",
   "execution_count": 3,
   "metadata": {},
   "outputs": [
    {
     "name": "stderr",
     "output_type": "stream",
     "text": [
      "WARNING: Logging before flag parsing goes to stderr.\n",
      "W0731 01:58:40.676099 140159062943552 deprecation.py:506] From /usr/local/lib/python3.6/dist-packages/tensorflow/python/ops/init_ops.py:1251: calling VarianceScaling.__init__ (from tensorflow.python.ops.init_ops) with dtype is deprecated and will be removed in a future version.\n",
      "Instructions for updating:\n",
      "Call initializer instance with the dtype argument instead of passing it to the constructor\n"
     ]
    },
    {
     "name": "stdout",
     "output_type": "stream",
     "text": [
      "Model: \"sequential\"\n",
      "_________________________________________________________________\n",
      "Layer (type)                 Output Shape              Param #   \n",
      "=================================================================\n",
      "dense (Dense)                (None, 1)                 2         \n",
      "=================================================================\n",
      "Total params: 2\n",
      "Trainable params: 2\n",
      "Non-trainable params: 0\n",
      "_________________________________________________________________\n"
     ]
    }
   ],
   "source": [
    "# 定义一个顺序模型\n",
    "model = tf.keras.models.Sequential()\n",
    "# 添加一层\n",
    "model.add(tf.keras.layers.Dense(1, input_shape=(1,), activation=tf.keras.activations.sigmoid))\n",
    "# 显示模型概要\n",
    "model.summary()"
   ]
  },
  {
   "cell_type": "markdown",
   "metadata": {},
   "source": [
    "## 4. 编译模型"
   ]
  },
  {
   "cell_type": "code",
   "execution_count": 4,
   "metadata": {},
   "outputs": [
    {
     "name": "stderr",
     "output_type": "stream",
     "text": [
      "W0731 01:58:40.791158 140159062943552 deprecation.py:323] From /usr/local/lib/python3.6/dist-packages/tensorflow/python/ops/nn_impl.py:180: add_dispatch_support.<locals>.wrapper (from tensorflow.python.ops.array_ops) is deprecated and will be removed in a future version.\n",
      "Instructions for updating:\n",
      "Use tf.where in 2.0, which has the same broadcast rule as np.where\n"
     ]
    }
   ],
   "source": [
    "model.compile(\n",
    "    # 优化器\n",
    "    optimizer=tf.keras.optimizers.Adam(),\n",
    "    # 损失函数\n",
    "    loss=tf.keras.losses.binary_crossentropy,\n",
    "    # 度量指标\n",
    "    metrics=['accuracy']\n",
    ")"
   ]
  },
  {
   "cell_type": "markdown",
   "metadata": {},
   "source": [
    "## 5. 训练模型"
   ]
  },
  {
   "cell_type": "code",
   "execution_count": 5,
   "metadata": {},
   "outputs": [
    {
     "name": "stdout",
     "output_type": "stream",
     "text": [
      "Train on 80 samples, validate on 10 samples\n",
      "Epoch 1/5\n",
      "80/80 [==============================] - 0s 1ms/sample - loss: 0.6912 - acc: 0.6125 - val_loss: 0.8364 - val_acc: 0.4000\n",
      "Epoch 2/5\n",
      "80/80 [==============================] - 0s 53us/sample - loss: 0.6910 - acc: 0.6125 - val_loss: 0.8358 - val_acc: 0.4000\n",
      "Epoch 3/5\n",
      "80/80 [==============================] - 0s 52us/sample - loss: 0.6908 - acc: 0.6125 - val_loss: 0.8352 - val_acc: 0.4000\n",
      "Epoch 4/5\n",
      "80/80 [==============================] - 0s 52us/sample - loss: 0.6906 - acc: 0.6125 - val_loss: 0.8346 - val_acc: 0.4000\n",
      "Epoch 5/5\n",
      "80/80 [==============================] - 0s 51us/sample - loss: 0.6905 - acc: 0.6125 - val_loss: 0.8340 - val_acc: 0.4000\n"
     ]
    },
    {
     "data": {
      "text/plain": [
       "<tensorflow.python.keras.callbacks.History at 0x7f79105a6c18>"
      ]
     },
     "execution_count": 5,
     "metadata": {},
     "output_type": "execute_result"
    }
   ],
   "source": [
    "model.fit(\n",
    "    # 样本数据\n",
    "    x_train, \n",
    "    # 标签数据\n",
    "    y_train,\n",
    "    # 验证数据\n",
    "    validation_data=(x_val, y_val),\n",
    "    # 迭代次数\n",
    "    epochs=5\n",
    ")"
   ]
  },
  {
   "cell_type": "markdown",
   "metadata": {},
   "source": [
    "## 6. 评估模型"
   ]
  },
  {
   "cell_type": "code",
   "execution_count": 6,
   "metadata": {},
   "outputs": [
    {
     "name": "stdout",
     "output_type": "stream",
     "text": [
      "10/10 [==============================] - 0s 31us/sample - loss: 0.7944 - acc: 0.5000\n",
      "[0.7943512797355652, 0.5]\n"
     ]
    }
   ],
   "source": [
    "results = model.evaluate(x_test, y_test)\n",
    "print(results)"
   ]
  },
  {
   "cell_type": "markdown",
   "metadata": {},
   "source": [
    "## 7. 使用模型"
   ]
  },
  {
   "cell_type": "code",
   "execution_count": 7,
   "metadata": {},
   "outputs": [
    {
     "name": "stdout",
     "output_type": "stream",
     "text": [
      "[[0.30186617]\n",
      " [0.24069515]\n",
      " [0.4924686 ]\n",
      " [0.25963402]\n",
      " [0.42938855]\n",
      " [0.41809776]\n",
      " [0.3337341 ]\n",
      " [0.47421983]\n",
      " [0.22590303]\n",
      " [0.27098668]]\n"
     ]
    }
   ],
   "source": [
    "predications = model.predict(x_test)\n",
    "print(predications)"
   ]
  }
 ],
 "metadata": {
  "kernelspec": {
   "display_name": "Python 3",
   "language": "python",
   "name": "python3"
  },
  "language_info": {
   "codemirror_mode": {
    "name": "ipython",
    "version": 3
   },
   "file_extension": ".py",
   "mimetype": "text/x-python",
   "name": "python",
   "nbconvert_exporter": "python",
   "pygments_lexer": "ipython3",
   "version": "3.6.8"
  }
 },
 "nbformat": 4,
 "nbformat_minor": 2
}
