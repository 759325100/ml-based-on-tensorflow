{
 "cells": [
  {
   "cell_type": "markdown",
   "metadata": {},
   "source": [
    "# 简介"
   ]
  },
  {
   "cell_type": "markdown",
   "metadata": {
    "slideshow": {
     "slide_type": "slide"
    }
   },
   "source": [
    "## 1. Tensorflow\n",
    "\n",
    "<img src=\"./images/tensorflow.svg\" width=\"200\"/> \n",
    "\n",
    "2015年11月9日发行beta版本，TensorFlow支持多种客户端语言下的安装和运行。当前最新版本1.14.0， 2.0目前处于beta版状态。\n",
    "绑定完成并支持版本兼容运行的语言为Python、JavaScript、C++和Java，移动端 TensorFlow Lite、TensorFlow Lite on iOS。\n",
    "\n",
    "分：CPU版本和GPU版, 硬件可选: Nvidia Tesla显卡\n",
    "\n",
    "[中文官网](https://tensorflow.google.cn/)\n",
    "\n",
    "[Python & 编程语言排行](https://www.tiobe.com/tiobe-index/)\n",
    "\n",
    "[Tensorflow趋势](https://trends.google.com/trends/explore?date=today%205-y&geo=US&q=%2Fg%2F11bwp1s2k3,Theano,CNTK)\n",
    "\n",
    "Keras是什么？\n",
    "\n",
    "## 2. 两个概念\n",
    "- Tensor(张量)\n",
    "\n",
    "> [什么是张量？](https://www.youtube.com/watch?v=f5liqUk0ZTw)\n",
    "\n",
    "- Entropy（熵）\n",
    "\n",
    "> [什么是熵？](https://www.youtube.com/watch?v=uQSoaiubuA0)\n",
    "\n",
    "## 3. 理念转变\n",
    "\n",
    "- 编码实现规则\n",
    "- 编码倒推规则\n",
    "\n",
    "## 4. 和人类大脑神经没有任何关系\n",
    "\n",
    "- 不具备抽象能力\n",
    "\n",
    "> [抽象能力](https://live.kuaishou.com/u/3x6wvw5xyd5ww3c/3xaykey35uzw54s?did=web_1673985996114933ae8c767dd0ca1389)\n",
    "\n",
    "- 不具备推理能力\n",
    "\n",
    "## 5. 完整程序组成\n",
    "\n",
    "- 数据准备\n",
    "- 构建模型\n",
    "- 编译模型\n",
    "- 训练模型\n",
    "- 评估模型\n",
    "- 保存模型\n",
    "- 使用模型"
   ]
  }
 ],
 "metadata": {
  "kernelspec": {
   "display_name": "Python 3",
   "language": "python",
   "name": "python3"
  },
  "language_info": {
   "codemirror_mode": {
    "name": "ipython",
    "version": 3
   },
   "file_extension": ".py",
   "mimetype": "text/x-python",
   "name": "python",
   "nbconvert_exporter": "python",
   "pygments_lexer": "ipython3",
   "version": "3.6.8"
  }
 },
 "nbformat": 4,
 "nbformat_minor": 2
}
