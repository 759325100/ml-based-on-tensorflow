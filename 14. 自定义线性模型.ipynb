{
 "cells": [
  {
   "cell_type": "markdown",
   "metadata": {},
   "source": [
    "# 自定义线性模型"
   ]
  },
  {
   "cell_type": "code",
   "execution_count": null,
   "metadata": {},
   "outputs": [],
   "source": [
    "import matplotlib.pyplot as plt\n",
    "import tensorflow as tf\n",
    "\n",
    "# 准备样本数据\n",
    "# y = 4x + 5\n",
    "x_train = [1, 2]\n",
    "y_train = [9, 13]\n",
    "\n",
    "# 使用tensorflow求解\n",
    "W = tf.Variable(0, dtype=tf.float64, name='W')\n",
    "b = tf.Variable(0, dtype=tf.float64, name='b')\n",
    "\n",
    "x = tf.placeholder(dtype=tf.float64, name='x')\n",
    "y = tf.placeholder(dtype=tf.float64, name='y')\n",
    "\n",
    "# 设计模型\n",
    "model = x * W + b\n",
    "\n",
    "# 计算损失函数 - mean squared error\n",
    "loss = tf.sqrt(tf.reduce_sum(tf.square(model - y)))\n",
    "\n",
    "learning_rate = 0.01\n",
    "N = float(len(x_train))\n",
    "\n",
    "# y - model决定方向\n",
    "# Σ -2/N * (y - (x * W + b))  ->  下面的迭代可以将这个值逼向0\n",
    "b_gradient = tf.reduce_sum(-2/N * (y - model))\n",
    "# Σ -2/N * x * (y - (W * x + b)) -> 下面的迭代可以将这个值逼向0\n",
    "W_gradient = tf.reduce_sum(-2/N * (y - model) * x)\n",
    "\n",
    "# 使用随机梯度下降法做优化器\n",
    "optimizer = tf.train.GradientDescentOptimizer(learning_rate=0.001)\n",
    "optimizer.compute_gradients(loss)\n",
    "\n",
    "\n",
    "# 梯度下降\n",
    "new_b = b.assign(b - learning_rate * b_gradient)\n",
    "new_W = W.assign(W - learning_rate * W_gradient)\n",
    "\n",
    "# 初始化变量\n",
    "init = tf.global_variables_initializer()\n",
    "\n",
    "epochs = 20000\n",
    "metrics = []\n",
    "w_list = []\n",
    "b_list = []\n",
    "\n",
    "with tf.Session() as sess:\n",
    "    sess.run(init)\n",
    "    for i in range(epochs):\n",
    "        new_W_r, new_b_r, loss_r = sess.run([new_W, new_b, loss], feed_dict={x: x_train, y: y_train})\n",
    "        metrics.append(loss_r)\n",
    "        w_list.append(new_W_r)\n",
    "        b_list.append(new_b_r)\n",
    "\n",
    "    result = sess.run(model, feed_dict={x: 5})\n",
    "\n",
    "\n",
    "print('W: ' + str(new_W_r))\n",
    "print('b: ' + str(new_b_r))\n"
   ]
  },
  {
   "cell_type": "code",
   "execution_count": null,
   "metadata": {},
   "outputs": [],
   "source": [
    "plt.figure(figsize=(15, 3))\n",
    "plt.plot([i + 1 for i in range(len(w_list))], w_list, label='W')\n",
    "plt.xlabel('epochs')\n",
    "plt.ylabel('W value')\n",
    "plt.legend()\n",
    "\n",
    "plt.figure(figsize=(15, 3))\n",
    "plt.plot([i + 1 for i in range(len(b_list))], b_list, label='b')\n",
    "plt.xlabel('epochs')\n",
    "plt.ylabel('b value')\n",
    "plt.legend()\n",
    "\n",
    "plt.figure(figsize=(15, 3))\n",
    "plt.plot([i + 1 for i in range(len(metrics))], metrics, label='mean squared error')\n",
    "plt.xlabel('epochs')\n",
    "plt.ylabel('MSE')\n",
    "plt.legend()\n",
    "\n",
    "plt.show()\n"
   ]
  }
 ],
 "metadata": {
  "kernelspec": {
   "display_name": "Python 3",
   "language": "python",
   "name": "python3"
  },
  "language_info": {
   "codemirror_mode": {
    "name": "ipython",
    "version": 3
   },
   "file_extension": ".py",
   "mimetype": "text/x-python",
   "name": "python",
   "nbconvert_exporter": "python",
   "pygments_lexer": "ipython3",
   "version": "3.6.8"
  }
 },
 "nbformat": 4,
 "nbformat_minor": 2
}
