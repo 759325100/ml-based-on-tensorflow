{
 "cells": [
  {
   "cell_type": "markdown",
   "metadata": {},
   "source": [
    "# 方程迭代求解"
   ]
  },
  {
   "cell_type": "markdown",
   "metadata": {},
   "source": [
    "## 1. 公式推导"
   ]
  },
  {
   "cell_type": "markdown",
   "metadata": {},
   "source": [
    "假设：\n",
    "\n",
    "$x_{1} = 4$\n",
    "\n",
    "$ x_{2} = 5$\n",
    "\n",
    "那么：\n",
    "\n",
    "$5x_{1} + 3x_{2} = 20 + 15 = 35$\n",
    "\n",
    "$2x_{1} + 7x_{2} =  8 + 35 = 43$\n",
    "\n",
    "解方程：\n",
    "\n",
    "$x_{1} = \\frac{1} {5}(-x_{1} * 0 - x_{2} * 3 + 35)$\n",
    "\n",
    "$x_{2} = \\frac{1} {7}(-x_{1} * 2 - x_{2} * 0 + 43)$\n",
    "\n",
    "\n",
    "\n",
    "$\n",
    "x = \\left\\lgroup \\matrix{x_{1}\\cr x_{2}} \\right\\rgroup, \n",
    "B_{0} = \\left\\lgroup \\matrix{0 & -\\frac{3} {5} \\cr -\\frac{2} {7} & 0} \\right\\rgroup,\n",
    "f(x) = \\left\\lgroup \\matrix{\\frac{35} {5}\\cr \\frac{43} {7}} \\right\\rgroup\n",
    "$\n"
   ]
  },
  {
   "cell_type": "markdown",
   "metadata": {},
   "source": [
    "## 2. 迭代求解"
   ]
  },
  {
   "cell_type": "code",
   "execution_count": null,
   "metadata": {},
   "outputs": [],
   "source": [
    "import numpy as np\n",
    "import matplotlib.pyplot as plt\n",
    "\n",
    "# 迭代求解\n",
    "# 要求矩阵中的值服从 (-1, 1)\n",
    "\n",
    "W = np.asarray(\n",
    "    [\n",
    "        [0,      -3/5.],\n",
    "        [-2/7.,     0.]\n",
    "    ], dtype='float32'\n",
    ")\n",
    "\n",
    "b = np.asarray(\n",
    "    [\n",
    "        35/5., \n",
    "        43/7.\n",
    "    ], dtype='float64')\n",
    "\n",
    "expect = np.zeros(2)\n",
    "\n",
    "epochs = 0\n",
    "metrics = []\n",
    "history_x1 = []\n",
    "history_x2 = []\n",
    "\n",
    "e = 0.000000001\n",
    "\n",
    "while True:\n",
    "    epochs += 1\n",
    "    # 保存上次计算结果\n",
    "    last = expect\n",
    "    \n",
    "    history_x1.append(expect[0])\n",
    "    history_x2.append(expect[1])\n",
    "    \n",
    "    # 点积运算，矩阵相乘\n",
    "    expect = W.dot(expect) + b\n",
    "\n",
    "    # 均方差，可以理解成lose函数\n",
    "    mse = np.sqrt(np.square(expect - last).sum())\n",
    "    metrics.append(mse)\n",
    "    if mse < e:\n",
    "        break\n",
    "\n",
    "print(expect)"
   ]
  },
  {
   "cell_type": "markdown",
   "metadata": {},
   "source": [
    "## 3. 图形方式显示过程"
   ]
  },
  {
   "cell_type": "code",
   "execution_count": null,
   "metadata": {},
   "outputs": [],
   "source": [
    "plt.figure(figsize=(15, 3))\n",
    "plt.plot(range(epochs), history_x1, label='x1')\n",
    "plt.xlabel('epochs')\n",
    "plt.ylabel('value of x1')\n",
    "plt.title('x1 = {0:.5f}'.format(expect[0]))\n",
    "plt.legend()\n",
    "plt.show()\n",
    "\n",
    "plt.figure(figsize=(15, 3))\n",
    "plt.plot(range(epochs), history_x2, label='x2')\n",
    "plt.xlabel('epochs')\n",
    "plt.ylabel('value of x2')\n",
    "plt.title('x2 = {0:.5f}'.format(expect[1]))\n",
    "plt.legend()\n",
    "plt.show()\n",
    "\n",
    "plt.figure(figsize=(15, 3))\n",
    "plt.plot(range(epochs), metrics, label='mean squared error')\n",
    "plt.xlabel('epochs')\n",
    "plt.ylabel('MSE')\n",
    "plt.legend()\n",
    "plt.show()"
   ]
  },
  {
   "cell_type": "code",
   "execution_count": null,
   "metadata": {},
   "outputs": [],
   "source": []
  }
 ],
 "metadata": {
  "kernelspec": {
   "display_name": "Python 3",
   "language": "python",
   "name": "python3"
  },
  "language_info": {
   "codemirror_mode": {
    "name": "ipython",
    "version": 3
   },
   "file_extension": ".py",
   "mimetype": "text/x-python",
   "name": "python",
   "nbconvert_exporter": "python",
   "pygments_lexer": "ipython3",
   "version": "3.6.9"
  }
 },
 "nbformat": 4,
 "nbformat_minor": 2
}
