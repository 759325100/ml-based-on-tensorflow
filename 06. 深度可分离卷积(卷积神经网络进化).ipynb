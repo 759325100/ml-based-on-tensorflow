{
 "cells": [
  {
   "cell_type": "markdown",
   "metadata": {},
   "source": [
    "# 深度可分离卷积\n",
    "\n",
    "卷积神经网络进化版，功能一致，但是速度更快、表示效率更高\n",
    "\n",
    "卷积神经网络由卷积层和池化层组成，一般一个卷积层配一个池化层，多个卷积层配一个池化层也比较常见，局部相关，\n",
    "\n",
    "一般应用场景：\n",
    "- 2D卷积神经网络：图像识别\n",
    "- 1D卷积神经网络：智能翻译"
   ]
  },
  {
   "cell_type": "markdown",
   "metadata": {},
   "source": [
    "## 1. 导入包，并打印版本信息"
   ]
  },
  {
   "cell_type": "code",
   "execution_count": null,
   "metadata": {},
   "outputs": [],
   "source": [
    "import tensorflow as tf\n",
    "import matplotlib\n",
    "import matplotlib.pyplot as plt\n",
    "import numpy as np\n",
    "\n",
    "models = tf.keras.models\n",
    "layers = tf.keras.layers\n",
    "activations = tf.keras.activations\n",
    "mnist = tf.keras.datasets.mnist\n",
    "to_categorical = tf.keras.utils.to_categorical\n",
    "optimizers = tf.keras.optimizers\n",
    "losses = tf.keras.losses\n",
    "\n",
    "print('tensorflow: ' + str(tf.__version__))\n",
    "print('matplotlib: ' + str(matplotlib.__version__))\n",
    "print('numpy: ' + str(np.__version__))"
   ]
  },
  {
   "cell_type": "markdown",
   "metadata": {},
   "source": [
    "## 2. 准备样本数据"
   ]
  },
  {
   "cell_type": "code",
   "execution_count": null,
   "metadata": {},
   "outputs": [],
   "source": [
    "(train_images, train_labels_original), (test_images, test_labels_original) = mnist.load_data()\n",
    "\n",
    "train_images = train_images.reshape((len(train_images), 28, 28, 1))\n",
    "train_images = train_images.astype('float32') / 255\n",
    "\n",
    "test_images = test_images.reshape((len(test_images), 28, 28, 1))\n",
    "test_images = test_images.astype('float32') / 255\n",
    "\n",
    "train_labels = to_categorical(train_labels_original)\n",
    "test_labels = to_categorical(test_labels_original)\n",
    "\n",
    "val_samples = 30000\n",
    "\n",
    "data_train_images = train_images[val_samples:]\n",
    "data_train_labels = train_labels[val_samples:]\n",
    "\n",
    "val_images = train_images[:val_samples]\n",
    "val_labels = train_labels[:val_samples]"
   ]
  },
  {
   "cell_type": "markdown",
   "metadata": {},
   "source": [
    "## 3. 构建模型"
   ]
  },
  {
   "cell_type": "code",
   "execution_count": null,
   "metadata": {},
   "outputs": [],
   "source": [
    "model = models.Sequential()\n",
    "\n",
    "# 这边需要去了解一下：什么是卷积核？\n",
    "# 参考官方文档 https://tensorflow.google.cn/api_docs/python/tf/keras/layers/Conv2D\n",
    "# 重点看一下 kernel_size 和 padding 两个参数\n",
    "# data_format参数和你的样本数据格式有一点关系，channels_first or channels_last, tensorflow默认channel_last\n",
    "# 对于这个例子图片数据是 28 * 28 灰度图，所以 input_shape = (28, 28, 1), 对于彩图input_shape应该是 (width, height, 3或者4)\n",
    "\n",
    "# NOTE： 飞驰人生：一顿操作猛如虎，定睛一看原地杵。\n",
    "model.add(layers.SeparableConv2D(32, (3, 3), activation=activations.relu, input_shape=(28, 28, 1)))\n",
    "model.add(layers.MaxPooling2D(pool_size=(2, 2)))\n",
    "\n",
    "model.add(layers.SeparableConv2D(64, (3, 3), activation=activations.relu))\n",
    "model.add(layers.MaxPooling2D(pool_size=(2, 2)))\n",
    "\n",
    "# 池化层和全连接层之间可以用下面3种方式中的一种进行链接，\n",
    "# 这三种方式都不会产生额外的可训练变量，仅仅是连接使用，\n",
    "# 不同的样本效果可能不一样，哪个效果好用哪个。\n",
    "# 实际上调整模型参数就是指的调整网络层参数，这部分工作不应该由人类来完成，因此，TF2.0加入超参自动调整功能。\n",
    "\n",
    "# 1. 可以使用Flatten展平数据\n",
    "model.add(layers.Flatten())\n",
    "\n",
    "# 2. 也可以用GlobalMaxPool层做链接\n",
    "# model.add(layers.GlobalMaxPool2D())\n",
    "\n",
    "# 3. 也可以用GlobalAveragePool层做链接\n",
    "# model.add(layers.GlobalAveragePooling2D())\n",
    "\n",
    "model.add(layers.Dense(64, activation=activations.relu))\n",
    "model.add(layers.Dense(10, activation=activations.softmax))\n",
    "\n",
    "model.summary()"
   ]
  },
  {
   "cell_type": "markdown",
   "metadata": {},
   "source": [
    "## 4. 编译模型"
   ]
  },
  {
   "cell_type": "code",
   "execution_count": null,
   "metadata": {},
   "outputs": [],
   "source": [
    "model.compile(\n",
    "    optimizer=optimizers.Adam(),\n",
    "    loss=losses.categorical_crossentropy,\n",
    "    metrics=['accuracy', 'mae', 'mse']\n",
    ")"
   ]
  },
  {
   "cell_type": "markdown",
   "metadata": {},
   "source": [
    "## 5. 训练模型"
   ]
  },
  {
   "cell_type": "code",
   "execution_count": null,
   "metadata": {},
   "outputs": [],
   "source": [
    "history = model.fit(\n",
    "    data_train_images,\n",
    "    data_train_labels,\n",
    "    epochs=10,\n",
    "    batch_size=128,\n",
    "    validation_data=(val_images, val_labels)\n",
    ")"
   ]
  },
  {
   "cell_type": "markdown",
   "metadata": {},
   "source": [
    "## 6. 评估模型"
   ]
  },
  {
   "cell_type": "code",
   "execution_count": null,
   "metadata": {},
   "outputs": [],
   "source": [
    "model.evaluate(test_images, test_labels)"
   ]
  },
  {
   "cell_type": "markdown",
   "metadata": {},
   "source": [
    "## 7. 预测结果"
   ]
  },
  {
   "cell_type": "code",
   "execution_count": null,
   "metadata": {},
   "outputs": [],
   "source": [
    "x_samples = test_images[:100]\n",
    "y_samples = test_labels_original[:100]\n",
    "predications = model.predict(x_samples)"
   ]
  },
  {
   "cell_type": "markdown",
   "metadata": {},
   "source": [
    "## 8. 使用图形显示100个结果"
   ]
  },
  {
   "cell_type": "code",
   "execution_count": null,
   "metadata": {},
   "outputs": [],
   "source": [
    "plt.figure(figsize=(25, 25))\n",
    "for i in range(100):\n",
    "    plt.subplot(10, 10, i + 1)\n",
    "    plt.xticks([])\n",
    "    plt.yticks([])    \n",
    "    plt.imshow(x_samples[i].reshape(28, 28), cmap=plt.cm.binary)\n",
    "    plt.grid(True)\n",
    "    if np.argmax(predications[i]) != test_labels_original[i]:       \n",
    "        plt.xlabel('predict:' + str(np.argmax(predications[i])) + ', actual:' + str(y_samples[i]), color='red')\n",
    "    else:\n",
    "        plt.xlabel('predict:' + str(np.argmax(predications[i])) + ', actual:' + str(y_samples[i]))\n",
    "plt.show()"
   ]
  },
  {
   "cell_type": "code",
   "execution_count": null,
   "metadata": {},
   "outputs": [],
   "source": []
  }
 ],
 "metadata": {
  "kernelspec": {
   "display_name": "Python 3",
   "language": "python",
   "name": "python3"
  },
  "language_info": {
   "codemirror_mode": {
    "name": "ipython",
    "version": 3
   },
   "file_extension": ".py",
   "mimetype": "text/x-python",
   "name": "python",
   "nbconvert_exporter": "python",
   "pygments_lexer": "ipython3",
   "version": "3.6.8"
  }
 },
 "nbformat": 4,
 "nbformat_minor": 2
}
