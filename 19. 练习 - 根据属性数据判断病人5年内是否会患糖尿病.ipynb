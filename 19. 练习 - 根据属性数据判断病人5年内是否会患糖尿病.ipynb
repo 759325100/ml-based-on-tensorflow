{
 "cells": [
  {
   "cell_type": "markdown",
   "metadata": {},
   "source": [
    "# 根据属性数据判断病人5年内是否会患糖尿病\n",
    "\n",
    "二分类问题： 判断病人在 5 年内是否会患糖尿病\n",
    "\n",
    "这个数据前 8 列是变量，最后一列是预测值为 0 或 1。\n",
    "\n",
    "栏位说明：\n",
    " 1. 怀孕次数 Number of times pregnant\n",
    " 2. 口服葡萄糖耐量试验中，2小时内血浆葡萄糖浓度 Plasma glucose concentration a 2 hours in an oral glucose tolerance test\n",
    " 3. 舒张压 Diastolic blood pressure (mm Hg)\n",
    " 4. 肱三头肌皮肤褶皱厚度 Triceps skin fold thickness (mm)\n",
    " 5. 2小时血清胰岛素 2-Hour serum insulin (mu U/ml)\n",
    " 6. 体重指数 Body mass index (weight in kg/(height in m)^2)\n",
    " 7. 糖尿病家族史 Diabetes pedigree function\n",
    " 8. 年龄 Age (years)\n",
    " 9. 是否患糖尿病 Class variable (0 or 1)"
   ]
  },
  {
   "cell_type": "code",
   "execution_count": null,
   "metadata": {},
   "outputs": [],
   "source": [
    "import numpy as np\n",
    "import tensorflow as tf\n",
    "from matplotlib import pyplot as plt\n",
    "\n",
    "dataset = np.loadtxt('./datasets/pima-indians-diabetes.csv', delimiter=\",\")\n",
    "x_samples = dataset[:,0:8]\n",
    "y_samples = dataset[:,8]"
   ]
  }
 ],
 "metadata": {
  "kernelspec": {
   "display_name": "Python 3",
   "language": "python",
   "name": "python3"
  },
  "language_info": {
   "codemirror_mode": {
    "name": "ipython",
    "version": 3
   },
   "file_extension": ".py",
   "mimetype": "text/x-python",
   "name": "python",
   "nbconvert_exporter": "python",
   "pygments_lexer": "ipython3",
   "version": "3.6.8"
  }
 },
 "nbformat": 4,
 "nbformat_minor": 2
}
