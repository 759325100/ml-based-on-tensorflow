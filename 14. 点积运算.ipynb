{
 "cells": [
  {
   "cell_type": "markdown",
   "metadata": {},
   "source": [
    "# 点积运算"
   ]
  },
  {
   "cell_type": "code",
   "execution_count": null,
   "metadata": {},
   "outputs": [],
   "source": [
    "import numpy as np\n",
    "\n",
    "# 准备样本数据\n",
    "x = np.asarray([\n",
    "    [1, 2], \n",
    "    [3, 4], \n",
    "    [5, 6],    \n",
    "    [7, 8]\n",
    "])\n",
    "\n",
    "# 权重\n",
    "W = np.asarray([[7], [8]])\n",
    "\n",
    "# 偏差\n",
    "b = np.asarray([9])\n",
    "\n",
    "# 模型 y = x * W + b\n",
    "model = x.dot(W) + b"
   ]
  },
  {
   "cell_type": "markdown",
   "metadata": {},
   "source": [
    "- 矩阵点积运算 \n",
    "\n",
    "$\\left\\lgroup \\matrix{1&2\\cr 3&4\\cr 5&6\\cr 7&8} \\right\\rgroup * \\left\\lgroup \\matrix{7\\cr 8} \\right\\rgroup = \\left\\lgroup \\matrix{1*7 + 2* 8\\cr3 * 7 + 4 * 8\\cr5*7 + 6 * 8\\cr7 * 7 + 8 * 8} \\right\\rgroup = \\left\\lgroup \\matrix{23\\cr53\\cr83\\cr113} \\right\\rgroup$\n",
    "\n",
    "- 矩阵加法运算 \n",
    "\n",
    "$\\left\\lgroup \\matrix{23\\cr53\\cr83\\cr113}\\right\\rgroup + \\left\\lgroup 9 \\right\\rgroup = \\left\\lgroup \\matrix{32\\cr62\\cr92\\cr122}\\right\\rgroup$"
   ]
  },
  {
   "cell_type": "code",
   "execution_count": null,
   "metadata": {},
   "outputs": [],
   "source": [
    "print('x.shape: ' + str(x.shape))\n",
    "print('W.shape: ' + str(W.shape))\n",
    "print('b.shape: ' + str(b.shape))\n",
    "print('model.shape: ' + str(model.shape))\n",
    "print('model: ' + str(model))"
   ]
  },
  {
   "cell_type": "code",
   "execution_count": null,
   "metadata": {},
   "outputs": [],
   "source": []
  }
 ],
 "metadata": {
  "kernelspec": {
   "display_name": "Python 3",
   "language": "python",
   "name": "python3"
  },
  "language_info": {
   "codemirror_mode": {
    "name": "ipython",
    "version": 3
   },
   "file_extension": ".py",
   "mimetype": "text/x-python",
   "name": "python",
   "nbconvert_exporter": "python",
   "pygments_lexer": "ipython3",
   "version": "3.6.8"
  }
 },
 "nbformat": 4,
 "nbformat_minor": 2
}
