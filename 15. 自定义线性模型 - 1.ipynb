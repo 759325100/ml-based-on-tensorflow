{
 "cells": [
  {
   "cell_type": "markdown",
   "metadata": {},
   "source": [
    "# 自定义线性模型 - 1"
   ]
  },
  {
   "cell_type": "markdown",
   "metadata": {},
   "source": [
    "## 1. 导入包，并启用eager executing\n",
    "\n",
    "前端语言Python和后端语言C，启用eager executing之后，方便开发"
   ]
  },
  {
   "cell_type": "code",
   "execution_count": null,
   "metadata": {},
   "outputs": [],
   "source": [
    "import tensorflow as tf\n",
    "import matplotlib.pyplot as plt\n",
    "\n",
    "# 启用eager executing\n",
    "tf.enable_eager_execution()"
   ]
  },
  {
   "cell_type": "markdown",
   "metadata": {},
   "source": [
    "## 2. 定义两个变量W,  b\n",
    "\n",
    "- W: weights(权重)， keras中叫kernel\n",
    "- b: bias(偏差)\n",
    "\n",
    "$线性方程： y=x * W + b $"
   ]
  },
  {
   "cell_type": "code",
   "execution_count": null,
   "metadata": {},
   "outputs": [],
   "source": [
    "W = tf.Variable(0.0)\n",
    "b = tf.Variable(0.0)"
   ]
  },
  {
   "cell_type": "markdown",
   "metadata": {},
   "source": [
    "## 3. 准备样本数据"
   ]
  },
  {
   "cell_type": "code",
   "execution_count": null,
   "metadata": {},
   "outputs": [],
   "source": [
    "TRUE_W = 4.0\n",
    "TRUE_b = 5.0\n",
    "NUM_EXAMPLES = 1000\n",
    "learning_rate = 0.1\n",
    "\n",
    "x  = tf.random.normal(shape=[NUM_EXAMPLES])\n",
    "noise = tf.random.normal(shape=[NUM_EXAMPLES])\n",
    "y = x * TRUE_W + TRUE_b + noise"
   ]
  },
  {
   "cell_type": "markdown",
   "metadata": {},
   "source": [
    "## 4. 图形显示样本分布"
   ]
  },
  {
   "cell_type": "code",
   "execution_count": null,
   "metadata": {},
   "outputs": [],
   "source": [
    "plt.scatter(x, y, c='b')\n",
    "plt.show()"
   ]
  },
  {
   "cell_type": "markdown",
   "metadata": {},
   "source": [
    "## 5. 简单配置"
   ]
  },
  {
   "cell_type": "code",
   "execution_count": null,
   "metadata": {},
   "outputs": [],
   "source": [
    "# 总迭代次数\n",
    "epochs = 20\n",
    "\n",
    "# 保存迭代过程中W值，以供画图使用\n",
    "W_list = []\n",
    "# 保存迭代过程中b值，以供画图使用\n",
    "b_list = []\n",
    "# 保存迭代过程中loss值，以供画图使用\n",
    "loss_list = []"
   ]
  },
  {
   "cell_type": "markdown",
   "metadata": {},
   "source": [
    "## 6. 通过迭代训练模型"
   ]
  },
  {
   "cell_type": "code",
   "execution_count": null,
   "metadata": {},
   "outputs": [],
   "source": [
    "for epoch in range(epochs):\n",
    "    # 自动微分\n",
    "    with tf.GradientTape() as t:\n",
    "        # 定义模型\n",
    "        x_predication = x * W + b\n",
    "        # 计算损失函数\n",
    "        loss = tf.reduce_mean(tf.square(x_predication - y))\n",
    "\n",
    "    # 分别计算W, b梯度\n",
    "    W_gradient,b_gradient = t.gradient(loss, [W, b])\n",
    "    \n",
    "    # 保存迭代过程中的W值\n",
    "    W_list.append(W.numpy())\n",
    "    # 保存迭代过程中的b值\n",
    "    b_list.append(b.numpy())\n",
    "    # 保存损失值，后面画图用\n",
    "    loss_list.append(loss)\n",
    "    \n",
    "    # 对W，b重新赋值，以供下次迭代使用\n",
    "    W.assign_sub(learning_rate * W_gradient)\n",
    "    b.assign_sub(learning_rate * b_gradient)\n",
    "    \n",
    "    # 显示当前 W, b以及loss值\n",
    "    print('Epoch %2d: W=%1.2f b=%1.2f, loss=%2.5f' %\n",
    "        (epoch, W_list[-1], b_list[-1], loss))\n",
    "\n"
   ]
  },
  {
   "cell_type": "markdown",
   "metadata": {},
   "source": [
    "## 7. 图形显示迭代过程值的变化"
   ]
  },
  {
   "cell_type": "code",
   "execution_count": null,
   "metadata": {},
   "outputs": [],
   "source": [
    "plt.figure(figsize=(15, 2))\n",
    "plt.plot(range(epochs), W_list, 'r', range(epochs), b_list, 'b')\n",
    "plt.plot([TRUE_W] * epochs, 'r--', [TRUE_b] * epochs, 'b--')\n",
    "plt.legend(['W', 'b', 'true W', 'true_b'])\n",
    "\n",
    "plt.figure(figsize=(15, 2))\n",
    "plt.plot(range(epochs), loss_list, 'g')\n",
    "\n",
    "plt.show()\n"
   ]
  }
 ],
 "metadata": {
  "kernelspec": {
   "display_name": "Python 3",
   "language": "python",
   "name": "python3"
  },
  "language_info": {
   "codemirror_mode": {
    "name": "ipython",
    "version": 3
   },
   "file_extension": ".py",
   "mimetype": "text/x-python",
   "name": "python",
   "nbconvert_exporter": "python",
   "pygments_lexer": "ipython3",
   "version": "3.6.8"
  }
 },
 "nbformat": 4,
 "nbformat_minor": 2
}
