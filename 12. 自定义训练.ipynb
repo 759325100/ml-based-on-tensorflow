{
 "cells": [
  {
   "cell_type": "markdown",
   "metadata": {},
   "source": [
    "# 自定义训练"
   ]
  },
  {
   "cell_type": "code",
   "execution_count": 1,
   "metadata": {},
   "outputs": [
    {
     "data": {
      "text/plain": [
       "<Figure size 640x480 with 2 Axes>"
      ]
     },
     "metadata": {},
     "output_type": "display_data"
    }
   ],
   "source": [
    "import matplotlib.pyplot as plt\n",
    "import tensorflow as tf\n",
    "from progress.bar import Bar\n",
    "import numpy as np\n",
    "\n",
    "# 准备样本数据\n",
    "x_train = np.random.random(100)\n",
    "y_train = np.asarray([(4 * x + 5) for x in x_train], dtype='float32')\n",
    "\n",
    "# 使用tensorflow求解\n",
    "W = tf.Variable(0, dtype=tf.float64, name='W')\n",
    "b = tf.Variable(0, dtype=tf.float64, name='b')\n",
    "\n",
    "x = tf.placeholder(dtype=tf.float64, name='x')\n",
    "y = tf.placeholder(dtype=tf.float64, name='y')\n",
    "\n",
    "# 设计模型\n",
    "model = x * W + b\n",
    "\n",
    "# 计算损失函数 - mean squared error\n",
    "loss = tf.sqrt(tf.reduce_sum(tf.square(model - y)))\n",
    "\n",
    "learning_rate = 0.01\n",
    "N = float(len(x_train))\n",
    "\n",
    "# y - model决定方向\n",
    "\n",
    "# Σ -2/N * (y - (x * W + b))  ->  下面的迭代可以将这个值逼向0\n",
    "b_gradient = tf.reduce_sum(-2/N * (y - model))\n",
    "# Σ -2/N * x * (y - (W * x + b)) -> 下面的迭代可以将这个值逼向0\n",
    "W_gradient = tf.reduce_sum(-2/N * (y - model) * x)\n",
    "\n",
    "# 使用随机梯度下降法做优化器\n",
    "optimizer = tf.train.GradientDescentOptimizer(learning_rate=0.001)\n",
    "optimizer.compute_gradients(loss)\n",
    "\n",
    "\n",
    "# 梯度下降\n",
    "new_b = b.assign(b - learning_rate * b_gradient)\n",
    "new_W = W.assign(W - learning_rate * W_gradient)\n",
    "\n",
    "# 初始化变量\n",
    "init = tf.global_variables_initializer()\n",
    "\n",
    "epochs = 2000\n",
    "metrics = []\n",
    "\n",
    "with tf.Session() as sess:\n",
    "    sess.run(init)\n",
    "\n",
    "    k = 0\n",
    "    steps = 200\n",
    "    with Bar('Training', max=epochs/steps) as bar:\n",
    "\n",
    "        for i in range(epochs):\n",
    "            new_W_r, new_b_r, loss_r = sess.run([new_W, new_b, loss], feed_dict={x: x_train, y: y_train})\n",
    "            metrics.append(loss_r)\n",
    "            k += 1\n",
    "\n",
    "            if k % steps == 0:\n",
    "                bar.next()\n",
    "\n",
    "    result = sess.run(model, feed_dict={x: 5})\n",
    "\n",
    "#     print(result)\n",
    "\n",
    "plt.figure()\n",
    "plt.subplot(1, 2, 1)\n",
    "plt.plot(x_train, y_train, 'ro')\n",
    "plt.subplot(1, 2, 2)\n",
    "plt.plot([i + 1 for i in range(len(metrics))], metrics, label='mean squared error')\n",
    "plt.xlabel('epochs')\n",
    "plt.ylabel('mse')\n",
    "plt.legend()\n",
    "plt.show()\n",
    "\n"
   ]
  }
 ],
 "metadata": {
  "kernelspec": {
   "display_name": "Python 3",
   "language": "python",
   "name": "python3"
  },
  "language_info": {
   "codemirror_mode": {
    "name": "ipython",
    "version": 3
   },
   "file_extension": ".py",
   "mimetype": "text/x-python",
   "name": "python",
   "nbconvert_exporter": "python",
   "pygments_lexer": "ipython3",
   "version": "3.6.8"
  }
 },
 "nbformat": 4,
 "nbformat_minor": 2
}
