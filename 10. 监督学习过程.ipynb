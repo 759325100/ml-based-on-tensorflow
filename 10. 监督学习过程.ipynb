{
 "cells": [
  {
   "cell_type": "markdown",
   "metadata": {},
   "source": [
    "# 监督学习过程"
   ]
  },
  {
   "cell_type": "markdown",
   "metadata": {},
   "source": [
    "## 1. 基础代码"
   ]
  },
  {
   "cell_type": "code",
   "execution_count": null,
   "metadata": {},
   "outputs": [],
   "source": [
    "import tensorflow as tf\n",
    "import numpy as np\n",
    "import matplotlib\n",
    "import os\n",
    "import re\n",
    "\n",
    "from matplotlib import pyplot as plt\n",
    "from tensorflow.keras.callbacks import TensorBoard, ModelCheckpoint, EarlyStopping\n",
    "\n",
    "mnist = tf.keras.datasets.mnist\n",
    "models = tf.keras.models\n",
    "layers = tf.keras.layers\n",
    "activations = tf.keras.activations\n",
    "optimizers = tf.keras.optimizers\n",
    "losses = tf.keras.losses\n",
    "\n",
    "# 获取数据\n",
    "(x_train, y_train), (x_test, y_test) = mnist.load_data()\n",
    "\n",
    "# 处理数据\n",
    "x_train, x_test = x_train / 255.0, x_test / 255.0\n",
    "\n",
    "# 创建模型\n",
    "model = models.Sequential(\n",
    "    [\n",
    "        layers.Flatten(input_shape=(28,28)),\n",
    "        layers.Dense(512, activation=activations.relu),\n",
    "        layers.Dense(10, activation=activations.softmax)\n",
    "    ])\n",
    "\n",
    "# 编译模型\n",
    "model.compile(\n",
    "        optimizer=optimizers.Adam(),\n",
    "        loss=losses.sparse_categorical_crossentropy,\n",
    "        metrics=['accuracy']\n",
    ")\n",
    "\n",
    "# 显示模型\n",
    "model.summary()"
   ]
  },
  {
   "cell_type": "markdown",
   "metadata": {},
   "source": [
    "## 2. 定义一些帮助函数"
   ]
  },
  {
   "cell_type": "code",
   "execution_count": null,
   "metadata": {},
   "outputs": [],
   "source": [
    "# 每次执行生成一个log文件夹\n",
    "def __get_result_file_names():\n",
    "    # 获取最大索引\n",
    "    results_path = os.path.join(os.path.abspath('..'), 'results')\n",
    "    index = 0\n",
    "    for x in os.listdir(results_path):\n",
    "        matched = re.match(r'^run-(\\d{4})$', x)\n",
    "        if matched:\n",
    "            cur = int(matched.group(1))\n",
    "            if cur > index:\n",
    "                index = cur\n",
    "    index += 1\n",
    "\n",
    "    # 准备目录\n",
    "    log_dir = '../results/run-{0:0>4d}/logs'.format(index)\n",
    "    model_file_name = '../results/run-{0:0>4d}/model.h5'.format(index)\n",
    "    return log_dir, model_file_name\n",
    "\n",
    "\n",
    "def generate_callbacks_include_early_stop():\n",
    "    log_dir, model_file_name = __get_result_file_names()\n",
    "    \n",
    "    return [\n",
    "        # 保存Tensorboard训练日志\n",
    "        TensorBoard(log_dir=log_dir),\n",
    "        \n",
    "        # 保存最优质模型\n",
    "        ModelCheckpoint(\n",
    "            filepath=model_file_name,\n",
    "            monitor='val_loss',\n",
    "            save_best_only=True\n",
    "        ),\n",
    "        \n",
    "        # 提前结束训练，假如精度不再提升\n",
    "        EarlyStopping(monitor='acc', patience=3),\n",
    "        \n",
    "        # 提前结束训练，假如验证精度不在提升\n",
    "        EarlyStopping(monitor='val_loss', patience=3)\n",
    "    ]"
   ]
  },
  {
   "cell_type": "markdown",
   "metadata": {},
   "source": [
    "## 2. 通过配置callbacks启用监督学习\n",
    "\n",
    "启动tensorboard\n",
    "\n",
    "```shell\n",
    "$ docker exec -it tensorflow /bin/sh -c 'tensorboard --logdir /tf/results'\n",
    "```"
   ]
  },
  {
   "cell_type": "code",
   "execution_count": null,
   "metadata": {},
   "outputs": [],
   "source": [
    "model.fit(\n",
    "    x_train,\n",
    "    y_train,\n",
    "    epochs=10000,\n",
    "    validation_split=0.2,\n",
    "    callbacks=generate_callbacks_include_early_stop()\n",
    ")"
   ]
  }
 ],
 "metadata": {
  "kernelspec": {
   "display_name": "Python 3",
   "language": "python",
   "name": "python3"
  },
  "language_info": {
   "codemirror_mode": {
    "name": "ipython",
    "version": 3
   },
   "file_extension": ".py",
   "mimetype": "text/x-python",
   "name": "python",
   "nbconvert_exporter": "python",
   "pygments_lexer": "ipython3",
   "version": "3.6.8"
  }
 },
 "nbformat": 4,
 "nbformat_minor": 2
}
