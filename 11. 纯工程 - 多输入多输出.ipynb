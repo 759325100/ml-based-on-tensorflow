{
 "cells": [
  {
   "cell_type": "markdown",
   "metadata": {},
   "source": [
    "# 纯工程 - 多输入多输出\n",
    "\n",
    "该例子只是纯工程例子，样本数据随机生成，仅仅是为了描述`可能`。"
   ]
  },
  {
   "cell_type": "markdown",
   "metadata": {},
   "source": [
    "## 1. 多输入多输出神经网络结构图\n",
    "\n",
    "<img src=\"./images/muti-input-output.png\" />\n",
    "\n",
    "<img src=\"./images/muti-input-output-2.png\" />"
   ]
  },
  {
   "cell_type": "markdown",
   "metadata": {},
   "source": [
    "## 2. 导入包"
   ]
  },
  {
   "cell_type": "code",
   "execution_count": null,
   "metadata": {},
   "outputs": [],
   "source": [
    "import tensorflow as tf\n",
    "import numpy as np\n",
    "from matplotlib import pyplot as plt\n",
    "import pandas as pd\n",
    "\n",
    "models = tf.keras.models\n",
    "layers = tf.keras.layers\n",
    "losses = tf.keras.losses\n",
    "optimizers = tf.keras.optimizers\n",
    "activations = tf.keras.activations\n",
    "Input = tf.keras.Input\n",
    "utils = tf.keras.utils\n",
    "TensorBoard = tf.keras.callbacks.TensorBoard\n",
    "\n",
    "# 文本片段词典大小\n",
    "text_vocabulary_size = 1000\n",
    "# 问题词典大小\n",
    "question_vocabulary_size = 1000\n",
    "# 输入文本长度\n",
    "maxlen = 50\n",
    "# 样本数量\n",
    "num_samples = 1000\n",
    "# 收入分类数\n",
    "num_income_group = 10"
   ]
  },
  {
   "cell_type": "markdown",
   "metadata": {},
   "source": [
    "## 3. 准备多输入层"
   ]
  },
  {
   "cell_type": "code",
   "execution_count": null,
   "metadata": {},
   "outputs": [],
   "source": [
    "# 处理文本输入\n",
    "text_input = Input(shape=(None, ), dtype='int32', name='texts_input')\n",
    "embedded_text = layers.Embedding(text_vocabulary_size, 64, name=\"Embedding_for_texts\")(text_input)\n",
    "encoded_text = layers.LSTM(32, name=\"LSTM_for_text\")(embedded_text)\n",
    "\n",
    "# 处理问题输入\n",
    "question_input = Input(shape=(None, ), dtype='int32', name='questions_input')\n",
    "embedded_question = layers.Embedding(question_vocabulary_size, 64, name=\"Embedding_for_questions\")(question_input)\n",
    "encoded_question = layers.LSTM(64, name=\"LSTM_for_questions\")(embedded_question)\n",
    "\n",
    "# 连接编码后的问题和文本\n",
    "concatenated = layers.concatenate([encoded_text, encoded_question], axis=-1)"
   ]
  },
  {
   "cell_type": "markdown",
   "metadata": {},
   "source": [
    "## 4. 准备多输出层"
   ]
  },
  {
   "cell_type": "code",
   "execution_count": null,
   "metadata": {},
   "outputs": [],
   "source": [
    "# 二分类问题\n",
    "gender_prediction = layers.Dense(\n",
    "    1,\n",
    "    activation=activations.sigmoid,\n",
    "    name='gender')(concatenated)\n",
    "\n",
    "\n",
    "# 多分类问题\n",
    "income_hidden_prediction = layers.Dense(\n",
    "    128,\n",
    "    activation=activations.relu,\n",
    "    name='income_hidden')(concatenated)\n",
    "\n",
    "income_prediction = layers.Dense(\n",
    "    num_income_group,\n",
    "    activation=activations.softmax,\n",
    "    name='income')(income_hidden_prediction)\n",
    "\n",
    "# 回归问题\n",
    "age_prediction = layers.Dense(1, name='age')(concatenated)"
   ]
  },
  {
   "cell_type": "markdown",
   "metadata": {},
   "source": [
    "## 5. 构建模型"
   ]
  },
  {
   "cell_type": "code",
   "execution_count": null,
   "metadata": {},
   "outputs": [],
   "source": [
    "model = models.Model(\n",
    "    [text_input, question_input],\n",
    "    [age_prediction, income_prediction, gender_prediction]\n",
    ")\n",
    "\n",
    "model.summary()"
   ]
  },
  {
   "cell_type": "markdown",
   "metadata": {},
   "source": [
    "## 6. 编译模型"
   ]
  },
  {
   "cell_type": "code",
   "execution_count": null,
   "metadata": {},
   "outputs": [],
   "source": [
    "model.compile(\n",
    "    optimizer=optimizers.Adam(),  # 这个注释只是为了自动格式化\n",
    "    loss={\n",
    "        'age': losses.mse,\n",
    "        'income': losses.categorical_crossentropy,\n",
    "        'gender': losses.binary_crossentropy\n",
    "    },\n",
    "    # 对总loss值贡献度，详情可参考：https://tensorflow.google.cn/api_docs/python/tf/keras/Model#compile\n",
    "    loss_weights={\n",
    "        'age': 0.25,\n",
    "        'income': 1.,\n",
    "        'gender': 10.\n",
    "    },\n",
    "    metrics = ['accuracy', 'mae', 'mse']\n",
    ")"
   ]
  },
  {
   "cell_type": "markdown",
   "metadata": {},
   "source": [
    "## 7. 准备模拟数据"
   ]
  },
  {
   "cell_type": "code",
   "execution_count": null,
   "metadata": {},
   "outputs": [],
   "source": [
    "# 准备模拟数据\n",
    "# x_train(s)\n",
    "texts = np.random.randint(1, text_vocabulary_size, size=(num_samples, maxlen))\n",
    "questions = np.random.randint(1, question_vocabulary_size, size=(num_samples, maxlen))\n",
    "\n",
    "# y_train(s)\n",
    "# 1. 预测age是回归问题， lables.shape = (num_simples,)\n",
    "age_targets = np.random.randint(16, 40, size=num_samples)\n",
    "\n",
    "# 2. 预测income是多分类问题，有2种标签向量化方式，这边使用one-hot编码,lables.shape = (num_samples, num_income_group)\n",
    "income_targets = np.random.randint(num_income_group, size=num_samples)\n",
    "income_targets = utils.to_categorical(income_targets, num_income_group)\n",
    "\n",
    "# 3. 预测gender是两分类问题, labels.shape = (num_samples, )\n",
    "gender_targets = np.random.randint(2, size=num_samples)"
   ]
  },
  {
   "cell_type": "markdown",
   "metadata": {},
   "source": [
    "## 8. 训练模型"
   ]
  },
  {
   "cell_type": "code",
   "execution_count": null,
   "metadata": {},
   "outputs": [],
   "source": [
    "log_dir = '../results/muti-input-output-layers/'\n",
    "\n",
    "history = model.fit(\n",
    "    {\n",
    "        'texts_input': texts,  # 这个注释只是为了自动格式化\n",
    "        'questions_input': questions\n",
    "    },\n",
    "    {\n",
    "        'age': age_targets,\n",
    "        'income': income_targets,\n",
    "        'gender': gender_targets\n",
    "    },\n",
    "    epochs=10,\n",
    "    batch_size=64,\n",
    "    validation_split=0.2,    \n",
    "    callbacks=[tf.keras.callbacks.TensorBoard(log_dir=log_dir)]\n",
    ")"
   ]
  },
  {
   "cell_type": "markdown",
   "metadata": {},
   "source": [
    "## 9. 使用matplotlib显示结果"
   ]
  },
  {
   "cell_type": "markdown",
   "metadata": {},
   "source": [
    "### 9.1 整体损失"
   ]
  },
  {
   "cell_type": "code",
   "execution_count": null,
   "metadata": {},
   "outputs": [],
   "source": [
    "    hist = pd.DataFrame(history.history)\n",
    "    hist['epoch'] = history.epoch\n",
    "\n",
    "    plt.figure(figsize=(15, 2))\n",
    "    plt.xlabel('Epoch')\n",
    "    plt.ylabel('Loss')\n",
    "    plt.plot(hist['epoch'], hist['loss'], label='loss')\n",
    "    plt.plot(hist['epoch'], hist['val_loss'], label = 'val_loss')\n",
    "    plt.legend()\n",
    "    plt.show()"
   ]
  },
  {
   "cell_type": "markdown",
   "metadata": {},
   "source": [
    "### 9.2 年龄推测（回归问题）\n",
    "\n",
    "回归问题不存在精度的概念，因此第一张图精度总是0，MAE或者MSE是回归问题主要参考指标"
   ]
  },
  {
   "cell_type": "code",
   "execution_count": null,
   "metadata": {},
   "outputs": [],
   "source": [
    "# ------------------------------------- Age ------------------------------------- \n",
    "    plt.figure(figsize=(15, 2))\n",
    "    plt.xlabel('Epoch')\n",
    "    plt.ylabel('Age Accuracy')\n",
    "    plt.plot(hist['epoch'], hist['age_accuracy'], label='age_accuracy')\n",
    "    plt.plot(hist['epoch'], hist['val_age_accuracy'], label = 'val_age_accuracy')\n",
    "    plt.legend()\n",
    "    \n",
    "    plt.figure(figsize=(15, 2))\n",
    "    plt.xlabel('Epoch')\n",
    "    plt.ylabel('Age Loss')\n",
    "    plt.plot(hist['epoch'], hist['age_loss'], label='age_loss')\n",
    "    plt.plot(hist['epoch'], hist['val_age_loss'], label = 'val_age_loss')\n",
    "    plt.legend()\n",
    "    \n",
    "    plt.figure(figsize=(15, 2))\n",
    "    plt.xlabel('Epoch')\n",
    "    plt.ylabel('Age Mean Absolute Error')\n",
    "    plt.plot(hist['epoch'], hist['age_mae'], label='age_mae')\n",
    "    plt.plot(hist['epoch'], hist['val_age_mae'], label = 'val_age_mae')\n",
    "    plt.legend()\n",
    "    \n",
    "    plt.figure(figsize=(15, 2))\n",
    "    plt.xlabel('Epoch')\n",
    "    plt.ylabel('Age Mean Squared Error')\n",
    "    plt.plot(hist['epoch'], hist['age_mse'], label='age_mse')\n",
    "    plt.plot(hist['epoch'], hist['val_age_mse'], label = 'val_age_mse')\n",
    "    plt.legend()\n",
    "    \n",
    "    plt.show()"
   ]
  },
  {
   "cell_type": "markdown",
   "metadata": {},
   "source": [
    "### 9.3 收入区间推测（多分类问题）\n",
    "\n",
    "因为是随机数，并且总类别为10，因此在这种情况下acc约等于10%， MAE和MSE不具有参考价值"
   ]
  },
  {
   "cell_type": "code",
   "execution_count": null,
   "metadata": {},
   "outputs": [],
   "source": [
    "   \n",
    "    # ------------------------------------- income ------------------------------------- \n",
    "    plt.figure(figsize=(15, 2))\n",
    "    plt.xlabel('Epoch')\n",
    "    plt.ylabel('Income accuracy')\n",
    "    plt.plot(hist['epoch'], hist['income_accuracy'], label='income_accuracy')\n",
    "    plt.plot(hist['epoch'], hist['val_income_accuracy'], label = 'val_income_accuracy')\n",
    "    plt.legend()\n",
    "    \n",
    "    plt.figure(figsize=(15, 2))\n",
    "    plt.xlabel('Epoch')\n",
    "    plt.ylabel('Income Loss')\n",
    "    plt.plot(hist['epoch'], hist['income_loss'], label='income_loss')\n",
    "    plt.plot(hist['epoch'], hist['val_income_loss'], label = 'val_income_loss')\n",
    "    plt.legend()\n",
    "    \n",
    "    plt.figure(figsize=(15, 2))\n",
    "    plt.xlabel('Epoch')\n",
    "    plt.ylabel('Income Mean Absolute Error')\n",
    "    plt.plot(hist['epoch'], hist['income_mae'], label='income_mae')\n",
    "    plt.plot(hist['epoch'], hist['val_income_mae'], label = 'val_income_mae')\n",
    "    plt.legend()\n",
    "    \n",
    "    plt.figure(figsize=(15, 2))\n",
    "    plt.xlabel('Epoch')\n",
    "    plt.ylabel('Income Mean Squared Error')\n",
    "    plt.plot(hist['epoch'], hist['income_mse'], label='income_mse')\n",
    "    plt.plot(hist['epoch'], hist['val_income_mse'], label = 'val_income_mse')\n",
    "    plt.legend()\n",
    "    \n",
    "    plt.show()"
   ]
  },
  {
   "cell_type": "markdown",
   "metadata": {},
   "source": [
    "### 9.4 性别推测（二分类问题）\n",
    "\n",
    "随机数下，二分类问题， acc约等于50%，MAE和MSE不具有参考价值"
   ]
  },
  {
   "cell_type": "code",
   "execution_count": null,
   "metadata": {},
   "outputs": [],
   "source": [
    "  # ------------------------------------- income ------------------------------------- \n",
    "    plt.figure(figsize=(15, 2))\n",
    "    plt.xlabel('Epoch')\n",
    "    plt.ylabel('Gender Accuracy')\n",
    "    plt.plot(hist['epoch'], hist['gender_accuracy'], label='gender_accuracy')\n",
    "    plt.plot(hist['epoch'], hist['val_gender_accuracy'], label = 'val_gender_accuracy')\n",
    "    plt.legend()\n",
    "    \n",
    "    plt.figure(figsize=(15, 2))\n",
    "    plt.xlabel('Epoch')\n",
    "    plt.ylabel('Gender Loss')\n",
    "    plt.plot(hist['epoch'], hist['gender_loss'], label='gender_loss')\n",
    "    plt.plot(hist['epoch'], hist['val_gender_loss'], label = 'val_gender_loss')\n",
    "    plt.legend()\n",
    "    \n",
    "    plt.figure(figsize=(15, 2))\n",
    "    plt.xlabel('Epoch')\n",
    "    plt.ylabel('Gender Mean Absolute Error')\n",
    "    plt.plot(hist['epoch'], hist['gender_mae'], label='gender_mae')\n",
    "    plt.plot(hist['epoch'], hist['val_gender_mae'], label = 'val_gender_mae')\n",
    "    plt.legend()\n",
    "    \n",
    "    plt.figure(figsize=(15, 2))\n",
    "    plt.xlabel('Epoch')\n",
    "    plt.ylabel('Gender Mean Squared Error')\n",
    "    plt.plot(hist['epoch'], hist['gender_mse'], label='gender_mse')\n",
    "    plt.plot(hist['epoch'], hist['val_gender_mse'], label = 'val_gender_mse')\n",
    "    plt.legend()\n",
    "    \n",
    "    plt.show()"
   ]
  }
 ],
 "metadata": {
  "kernelspec": {
   "display_name": "Python 3",
   "language": "python",
   "name": "python3"
  },
  "language_info": {
   "codemirror_mode": {
    "name": "ipython",
    "version": 3
   },
   "file_extension": ".py",
   "mimetype": "text/x-python",
   "name": "python",
   "nbconvert_exporter": "python",
   "pygments_lexer": "ipython3",
   "version": "3.6.8"
  }
 },
 "nbformat": 4,
 "nbformat_minor": 2
}
