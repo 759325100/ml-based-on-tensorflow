{
 "cells": [
  {
   "cell_type": "markdown",
   "metadata": {},
   "source": [
    "# 总结"
   ]
  },
  {
   "cell_type": "markdown",
   "metadata": {},
   "source": [
    "## 1. 层\n",
    "\n",
    "|            类型                |           名称           |             说明              |\n",
    "|:--------------------------------------------|:-----------------------------------|:------------------------------------------|\n",
    "|tf.keras.layers.Dense                |全连接层                   |                             |\n",
    "|tf.keras.layers.Conv2D                |2D卷积层                   |一般用于图像识别，与2D池化层配合使用     |\n",
    "|tf.keras.layers.Conv1D                |1D卷积层                   |一般用于翻译，与1D池化层配合使用        |\n",
    "|tf.keras.layers.Conv3D                |3D卷积层                   |一般用于视频识别，与3D池化层配合使用     |\n",
    "|tf.keras.layers.MaxPooling2D            |2D池化层                   |一般用于图像识别，与2D卷积层配合使用     |\n",
    "|tf.keras.layers.MaxPooling1D            |1D池化层                   |一般用于翻译，与1D卷积层配合使用        |\n",
    "|tf.keras.layers.MaxPooling3D            |3D池化层                   |一般用于视频识别，与3D卷积层配合使用     |\n",
    "|tf.keras.layers.Embedding              |词嵌入                    |一般用于文本处理，输入               |\n",
    "|tf.keras.layers.RNN                  |循环神经网络                |[循环神经网络](https://baike.baidu.com/item/%E5%BE%AA%E7%8E%AF%E7%A5%9E%E7%BB%8F%E7%BD%91%E7%BB%9C/23199490)|\n",
    "|tf.keras.layers.LSTM                 |长短期记忆网络               |[长短期记忆网络](https://baike.baidu.com/item/%E9%95%BF%E7%9F%AD%E6%9C%9F%E8%AE%B0%E5%BF%86%E4%BA%BA%E5%B7%A5%E7%A5%9E%E7%BB%8F%E7%BD%91%E7%BB%9C/17541107?fromtitle=LSTM&fromid=17541102&fr=aladdin#ref_[2]_17620638)|\n",
    "|tf.keras.layers.Flatten               |展平                      |用于将多维数据转化成一维数据           |\n",
    "|tf.keras.layers.GlobalAveragePooling2D     |-                        |-                             |\n",
    "|tf.keras.layers.GlobalAveragePooling1D     |-                        |-                             |\n",
    "|tf.keras.layers.GlobalAveragePooling3D     |-                        |-                             |\n",
    "|tf.keras.layers.GlobalMaxPool1D          |-                        |-                             |\n",
    "|tf.keras.layers.GlobalMaxPool2D          |-                        |-                             |\n",
    "|tf.keras.layers.GlobalMaxPool3D          |-                        |-                             |\n",
    "\n",
    "最后一层网络：\n",
    "- 任何类型网络最后一层 `一定` 是全连接层\n",
    "- 二分类问题输出维度一定是 `1`\n",
    "- 多分类问题输出维度是 `类别总数`\n",
    "- 回归问题输出维度一定是 `1` ，且 `不带任何激活函数`"
   ]
  },
  {
   "cell_type": "markdown",
   "metadata": {},
   "source": [
    "## 2. 损失函数\n",
    "\n",
    "用于计算偏差\n",
    "\n",
    "|            类型                  |             应用场景              |\n",
    "|:--------------------------------  ------------|:--------------------------------------------------------|\n",
    "|tf.keras.losses.sparse_categorical_crossentropy      |__多分类问题__，标签是数值的情况下，比如用1、2、3、4表示类别  |\n",
    "|tf.keras.losses.binary_crossentropy               |__二分类问题__，标签数值一定是0或者1           |\n",
    "|tf.keras.losses.mean_squared_error               |__回归问题__，标签是一个具体值，比如：油耗10升/百公里\n",
    "|tf.keras.losses.categorical_crossentropy           |__多分类问题__，标签是One-Hot格式， 比如总共有3个分类， 类别一：用数组[1, 0, 0]表示, 类别二：用数组[0, 1, 0]表示，类别三：用数组[0, 0, 1]表示。卷积神经网络就是采用这种编码来表示标签的|"
   ]
  },
  {
   "cell_type": "markdown",
   "metadata": {},
   "source": [
    "## 3. 优化器\n",
    "\n",
    "目前用到的优化器：(优化器选择和需要解决问题类型关系不是很大，当发生无法收敛的时候，最后考虑调整优化器)\n",
    "\n",
    "- tf.keras.optimizers.Adam\n",
    "- tf.keras.optimizers.RMSprop\n",
    "\n",
    "<img src=\"./images/optimizers.gif\" width=\"60%\"/>"
   ]
  },
  {
   "cell_type": "markdown",
   "metadata": {},
   "source": [
    "## 4. 激活器\n",
    "\n",
    "### 4.1 tf.keras.activations.relu 线性整流函数\n",
    "<img src=\"./images/relu.png\" />\n",
    "<center>\n",
    "    f(x) = max(0, x)\n",
    "</center>\n",
    "\n",
    "主要用于全连接层(tf.keras.layser.Dense)（非最后一层）\n",
    "\n",
    "### 4.2 tf.keras.activations.softmax\n",
    "主要用在 `多分类` 最后一层\n",
    "\n",
    "### 4.3 tf.keras.activations.sigmoid\n",
    "主要用在 `二分类` 问题最后一层\n",
    "\n",
    "<img src=\"./images/softmax_vs_sigmoid.png\" />\n",
    "<center> softmax vs sigmoid</center>"
   ]
  },
  {
   "cell_type": "markdown",
   "metadata": {},
   "source": [
    "## 5. 度量指标\n"
   ]
  }
 ],
 "metadata": {
  "kernelspec": {
   "display_name": "Python 3",
   "language": "python",
   "name": "python3"
  },
  "language_info": {
   "codemirror_mode": {
    "name": "ipython",
    "version": 3
   },
   "file_extension": ".py",
   "mimetype": "text/x-python",
   "name": "python",
   "nbconvert_exporter": "python",
   "pygments_lexer": "ipython3",
   "version": "3.6.8"
  }
 },
 "nbformat": 4,
 "nbformat_minor": 2
}
