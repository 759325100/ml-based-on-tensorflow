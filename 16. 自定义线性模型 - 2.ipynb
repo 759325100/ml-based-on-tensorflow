{
 "cells": [
  {
   "cell_type": "markdown",
   "metadata": {},
   "source": [
    "# 自定义线性模型 - 2"
   ]
  },
  {
   "cell_type": "markdown",
   "metadata": {},
   "source": [
    "## 1. 导入包"
   ]
  },
  {
   "cell_type": "code",
   "execution_count": null,
   "metadata": {},
   "outputs": [],
   "source": [
    "import matplotlib.pyplot as plt\n",
    "import tensorflow as tf"
   ]
  },
  {
   "cell_type": "markdown",
   "metadata": {},
   "source": [
    "## 2. 定义变量和placeholder"
   ]
  },
  {
   "cell_type": "code",
   "execution_count": null,
   "metadata": {},
   "outputs": [],
   "source": [
    "W = tf.Variable(0, dtype=tf.float64, name='W')\n",
    "b = tf.Variable(0, dtype=tf.float64, name='b')\n",
    "\n",
    "x = tf.placeholder(dtype=tf.float64, name='x')\n",
    "y = tf.placeholder(dtype=tf.float64, name='y')"
   ]
  },
  {
   "cell_type": "markdown",
   "metadata": {},
   "source": [
    "## 3. 准备数据"
   ]
  },
  {
   "cell_type": "code",
   "execution_count": null,
   "metadata": {},
   "outputs": [],
   "source": [
    "# y = 4x + 5\n",
    "x_train = [1, 2]\n",
    "y_train = [9, 13]\n",
    "\n",
    "# 学习率\n",
    "learning_rate = 0.01\n",
    "\n",
    "N = float(len(x_train))\n",
    "\n",
    "# 迭代总次数\n",
    "epochs = 3000\n",
    "# 保存每次迭代loss值\n",
    "metrics = []\n",
    "# 保存每次迭代W值\n",
    "W_list = []\n",
    "\n",
    "# 保存每次迭代b值\n",
    "b_list = []\n",
    "\n",
    "W_gradient_list = []\n",
    "b_gradient_list = []\n"
   ]
  },
  {
   "cell_type": "markdown",
   "metadata": {},
   "source": [
    "## 4. 线性模型和损失函数"
   ]
  },
  {
   "cell_type": "code",
   "execution_count": null,
   "metadata": {},
   "outputs": [],
   "source": [
    "# 设计模型\n",
    "model = x * W + b\n",
    "\n",
    "# 计算损失函数 - mean squared error (MSE)\n",
    "loss = tf.sqrt(tf.reduce_sum(tf.square(model - y)))\n",
    "tf.summary.scalar('loss', loss)"
   ]
  },
  {
   "cell_type": "markdown",
   "metadata": {},
   "source": [
    "## 5. 最小二乘法\n",
    "\n",
    "$$\\frac{\\partial Loss} {\\partial  W} = \\frac{ \\frac {1} {N} \\sum _{ i = 0 } ^N (y_{i} - (Wx_{i} + b))^2 } {\\partial W} = -\\frac {2} {N} \\sum_{i=1} ^N x_{i}(y_{i} - (Wx_{i} + b)) = 0 $$\n",
    "\n",
    "$$\\frac{\\partial Loss} {\\partial  b} = \\frac{ \\frac {1} {N} \\sum _{ i = 0 } ^N (y_{i} - (Wx_{i} + b))^2 } {\\partial b} = -\\frac {2} {N} \\sum_{i=1} ^N (y_{i} - (Wx_{i} + b)) = 0 $$\n",
    "\n",
    "$$model = Wx_{i} + b$$"
   ]
  },
  {
   "cell_type": "code",
   "execution_count": null,
   "metadata": {},
   "outputs": [],
   "source": [
    "# y - model决定方向\n",
    "# Σ -2/N * x * (y - (W * x + b)) -> 下面的迭代可以将这个值逼向0\n",
    "W_gradient = -2/N * tf.reduce_sum((y - model) * x)\n",
    "# Σ -2/N * (y - (x * W + b))  ->  下面的迭代可以将这个值逼向0\n",
    "b_gradient = -2/N * tf.reduce_sum(y - model)"
   ]
  },
  {
   "cell_type": "markdown",
   "metadata": {},
   "source": [
    "## 6. 梯度下降\n",
    "\n",
    "<img src=\"./images/gradient.png\" />"
   ]
  },
  {
   "cell_type": "code",
   "execution_count": null,
   "metadata": {},
   "outputs": [],
   "source": [
    "# 梯度下降\n",
    "new_b = b.assign(b - learning_rate * b_gradient)\n",
    "new_W = W.assign(W - learning_rate * W_gradient)"
   ]
  },
  {
   "cell_type": "markdown",
   "metadata": {},
   "source": [
    "## 7. 初始化变量\n",
    "\n",
    "tf在使用变量之前，需要通过该方法先初始化变量"
   ]
  },
  {
   "cell_type": "code",
   "execution_count": null,
   "metadata": {},
   "outputs": [],
   "source": [
    "# 初始化变量\n",
    "init = tf.global_variables_initializer()"
   ]
  },
  {
   "cell_type": "markdown",
   "metadata": {},
   "source": [
    "## 8. 训练模型"
   ]
  },
  {
   "cell_type": "code",
   "execution_count": null,
   "metadata": {},
   "outputs": [],
   "source": [
    "with tf.Session() as sess:\n",
    "    sess.run(init)\n",
    "    \n",
    "    for i in range(epochs):        \n",
    "        new_W_r, new_b_r,W_gradient_r, b_gradient_r, loss_r = sess.run(\n",
    "            [\n",
    "                new_W, \n",
    "                new_b, \n",
    "                W_gradient,\n",
    "                b_gradient,\n",
    "                loss                \n",
    "            ], \n",
    "            feed_dict={\n",
    "                x: x_train, \n",
    "                y: y_train\n",
    "            }\n",
    "        )\n",
    "        \n",
    "        metrics.append(loss_r)\n",
    "        W_list.append(new_W_r)\n",
    "        b_list.append(new_b_r)\n",
    "        \n",
    "        W_gradient_list.append(W_gradient_r)\n",
    "        b_gradient_list.append(b_gradient_r)\n",
    "        \n",
    "    # 使用模型预测\n",
    "    result = sess.run(model, feed_dict={x: 5})\n",
    "    print(result)"
   ]
  },
  {
   "cell_type": "markdown",
   "metadata": {},
   "source": [
    "## 9. 图形显示迭代过程值的变化"
   ]
  },
  {
   "cell_type": "code",
   "execution_count": null,
   "metadata": {},
   "outputs": [],
   "source": [
    "plt.figure(figsize=(15, 3))\n",
    "plt.plot([i + 1 for i in range(len(W_list))], W_list, 'r', [i + 1 for i in range(len(b_list))], b_list, 'b')\n",
    "\n",
    "plt.plot([4] * len(W_list), 'r--', [5] * len(b_list), 'b--')\n",
    "\n",
    "plt.legend(['W', 'b', 'true W', 'true_b'])\n",
    "\n",
    "plt.figure(figsize=(15, 3))\n",
    "plt.plot([i + 1 for i in range(len(metrics))], metrics, label='mean squared error')\n",
    "plt.xlabel('epochs')\n",
    "plt.ylabel('MSE')\n",
    "plt.legend()\n",
    "\n",
    "plt.show()\n"
   ]
  },
  {
   "cell_type": "markdown",
   "metadata": {},
   "source": [
    "## 10. 图形方式显示梯度变化"
   ]
  },
  {
   "cell_type": "code",
   "execution_count": null,
   "metadata": {},
   "outputs": [],
   "source": [
    "start = 80\n",
    "plt.figure(figsize=(15, 3))\n",
    "plt.plot([i for i in range(len(W_gradient_list) - start)], W_gradient_list[start:], label='W_gradient_list')\n",
    "plt.xlabel('epochs')\n",
    "plt.ylabel('W_gradient')\n",
    "plt.show()"
   ]
  },
  {
   "cell_type": "code",
   "execution_count": null,
   "metadata": {},
   "outputs": [],
   "source": [
    "plt.figure(figsize=(15, 3))\n",
    "plt.plot([i for i in range(len(b_gradient_list) - start)], b_gradient_list[start:], label='b_gradient_list')\n",
    "plt.xlabel('epochs')\n",
    "plt.ylabel('b_gradient')\n",
    "plt.show()"
   ]
  },
  {
   "cell_type": "code",
   "execution_count": null,
   "metadata": {},
   "outputs": [],
   "source": []
  }
 ],
 "metadata": {
  "kernelspec": {
   "display_name": "Python 3",
   "language": "python",
   "name": "python3"
  },
  "language_info": {
   "codemirror_mode": {
    "name": "ipython",
    "version": 3
   },
   "file_extension": ".py",
   "mimetype": "text/x-python",
   "name": "python",
   "nbconvert_exporter": "python",
   "pygments_lexer": "ipython3",
   "version": "3.6.8"
  }
 },
 "nbformat": 4,
 "nbformat_minor": 2
}
