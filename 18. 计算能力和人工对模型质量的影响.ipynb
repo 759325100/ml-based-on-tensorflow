{
 "cells": [
  {
   "cell_type": "markdown",
   "metadata": {},
   "source": [
    "# 算力和人工对模型质量的影响"
   ]
  },
  {
   "cell_type": "markdown",
   "metadata": {},
   "source": [
    "## 基础代码"
   ]
  },
  {
   "cell_type": "code",
   "execution_count": null,
   "metadata": {},
   "outputs": [],
   "source": [
    "import tensorflow as tf\n",
    "import matplotlib.pyplot as plt\n",
    "import numpy as np\n",
    "import math"
   ]
  },
  {
   "cell_type": "markdown",
   "metadata": {},
   "source": [
    "椭圆方程：\n",
    "\n",
    "$\\frac {x^2} {a^2} + \\frac {y^2} {b^2} = 1$\n",
    "\n",
    "$y=b * \\sqrt{ 1 - \\frac {x^2} {a^2}}$"
   ]
  },
  {
   "cell_type": "code",
   "execution_count": null,
   "metadata": {},
   "outputs": [],
   "source": [
    "a = 4.\n",
    "b = 3.\n",
    "\n",
    "x_samples = np.random.sample(100)\n",
    "x_samples *= a\n",
    "y_samples = [b * math.sqrt(1 - ((x * x) / (a * a))) for x in x_samples]\n",
    "\n",
    "x_samples = np.asarray(x_samples)\n",
    "y_samples = np.asarray(y_samples)\n",
    "\n",
    "x_tests = np.random.sample(100)\n",
    "x_tests *= a\n",
    "\n",
    "x_tests = np.asarray(x_tests)"
   ]
  },
  {
   "cell_type": "code",
   "execution_count": null,
   "metadata": {},
   "outputs": [],
   "source": [
    "plt.figure()\n",
    "plt.plot(x_samples, y_samples, 'bo')\n",
    "plt.show()"
   ]
  },
  {
   "cell_type": "markdown",
   "metadata": {},
   "source": [
    "## 1. 一般算力和人工\n",
    "\n",
    "配置385个可训练变量，100次迭代"
   ]
  },
  {
   "cell_type": "code",
   "execution_count": null,
   "metadata": {},
   "outputs": [],
   "source": [
    "# 定义一个顺序模型\n",
    "model = tf.keras.models.Sequential()\n",
    "# 添加一层\n",
    "model.add(tf.keras.layers.Dense(128, activation=tf.keras.activations.relu, input_shape=(1,)))\n",
    "model.add(tf.keras.layers.Dense(1))\n",
    "# 显示模型概要\n",
    "model.summary()\n",
    "\n",
    "model.compile(\n",
    "    # 优化器\n",
    "    optimizer=tf.keras.optimizers.RMSprop(0.001),\n",
    "    # 损失函数\n",
    "    loss=tf.keras.losses.mean_squared_error\n",
    ")\n",
    "\n",
    "model.fit(\n",
    "    # 样本数据\n",
    "    x_samples, \n",
    "    # 标签数据\n",
    "    y_samples,\n",
    "    # 迭代次数\n",
    "    epochs=100,\n",
    "    verbose=0\n",
    ")"
   ]
  },
  {
   "cell_type": "code",
   "execution_count": null,
   "metadata": {},
   "outputs": [],
   "source": [
    "predictions = model.predict(x_tests)\n",
    "plt.figure()\n",
    "\n",
    "plt.plot(x_samples, y_samples, 'bo')\n",
    "\n",
    "plt.plot(x_tests, [pred[0] for pred in predictions], 'ro')\n",
    "plt.legend(['original', 'predictions'])\n",
    "plt.show()"
   ]
  },
  {
   "cell_type": "markdown",
   "metadata": {},
   "source": [
    "## 2. 加大网络容量和迭代次数\n",
    "\n",
    "可训练变量由385增加到33537， 迭代次数由100增加到1000"
   ]
  },
  {
   "cell_type": "code",
   "execution_count": null,
   "metadata": {},
   "outputs": [],
   "source": [
    "# 定义一个顺序模型\n",
    "model = tf.keras.models.Sequential()\n",
    "model.add(tf.keras.layers.Dense(256, activation=tf.keras.activations.relu, input_shape=(1,)))\n",
    "model.add(tf.keras.layers.Dense(128, activation=tf.keras.activations.relu))\n",
    "model.add(tf.keras.layers.Dense(1))\n",
    "# 显示模型概要\n",
    "model.summary()\n",
    "\n",
    "model.compile(\n",
    "    # 优化器\n",
    "    optimizer=tf.keras.optimizers.RMSprop(0.001),\n",
    "    # 损失函数\n",
    "    loss=tf.keras.losses.mean_squared_error\n",
    ")\n",
    "\n",
    "model.fit(\n",
    "    # 样本数据\n",
    "    x_samples, \n",
    "    # 标签数据\n",
    "    y_samples,\n",
    "    # 迭代次数\n",
    "    epochs=1000,\n",
    "    verbose=0\n",
    ")\n"
   ]
  },
  {
   "cell_type": "code",
   "execution_count": null,
   "metadata": {},
   "outputs": [],
   "source": [
    "predictions = model.predict(x_tests)\n",
    "plt.figure()\n",
    "\n",
    "plt.plot(x_samples, y_samples, 'bo')\n",
    "\n",
    "plt.plot(x_tests, [pred[0] for pred in predictions], 'ro')\n",
    "plt.legend(['original', 'predictions'])\n",
    "plt.show()"
   ]
  },
  {
   "cell_type": "markdown",
   "metadata": {},
   "source": [
    "## 3. 加大样本量\n",
    "\n",
    "保持 385个可训练变量，100次迭代不变，将样本量由100增加到3000"
   ]
  },
  {
   "cell_type": "code",
   "execution_count": null,
   "metadata": {},
   "outputs": [],
   "source": [
    "# 定义一个顺序模型\n",
    "model = tf.keras.models.Sequential()\n",
    "# 添加一层\n",
    "model.add(tf.keras.layers.Dense(128, activation=tf.keras.activations.relu, input_shape=(1,)))\n",
    "model.add(tf.keras.layers.Dense(1))\n",
    "# 显示模型概要\n",
    "model.summary()\n",
    "\n",
    "model.compile(\n",
    "    # 优化器\n",
    "    optimizer=tf.keras.optimizers.RMSprop(0.001),\n",
    "    # 损失函数\n",
    "    loss=tf.keras.losses.mean_squared_error\n",
    ")\n",
    "\n",
    "# 生成3000个样本\n",
    "x_samples = np.random.sample(3000)\n",
    "x_samples *= a\n",
    "y_samples = [b * math.sqrt(1 - ((x * x) / (a * a))) for x in x_samples]\n",
    "x_samples = np.asarray(x_samples)\n",
    "y_samples = np.asarray(y_samples)\n",
    "\n",
    "model.fit(\n",
    "    # 样本数据\n",
    "    x_samples, \n",
    "    # 标签数据\n",
    "    y_samples,\n",
    "    # 迭代次数\n",
    "    epochs=100,\n",
    "    verbose=0\n",
    ")"
   ]
  },
  {
   "cell_type": "code",
   "execution_count": null,
   "metadata": {},
   "outputs": [],
   "source": [
    "predictions = model.predict(x_tests)\n",
    "plt.figure()\n",
    "\n",
    "plt.plot(x_samples, y_samples, 'bo')\n",
    "\n",
    "plt.plot(x_tests, [pred[0] for pred in predictions], 'ro')\n",
    "plt.legend(['original', 'predictions'])\n",
    "plt.show()"
   ]
  },
  {
   "cell_type": "code",
   "execution_count": null,
   "metadata": {},
   "outputs": [],
   "source": []
  },
  {
   "cell_type": "code",
   "execution_count": null,
   "metadata": {},
   "outputs": [],
   "source": []
  }
 ],
 "metadata": {
  "kernelspec": {
   "display_name": "Python 3",
   "language": "python",
   "name": "python3"
  },
  "language_info": {
   "codemirror_mode": {
    "name": "ipython",
    "version": 3
   },
   "file_extension": ".py",
   "mimetype": "text/x-python",
   "name": "python",
   "nbconvert_exporter": "python",
   "pygments_lexer": "ipython3",
   "version": "3.6.9"
  }
 },
 "nbformat": 4,
 "nbformat_minor": 2
}
